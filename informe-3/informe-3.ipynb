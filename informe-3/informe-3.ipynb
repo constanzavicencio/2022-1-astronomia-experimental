{
 "cells": [
  {
   "cell_type": "code",
   "execution_count": null,
   "metadata": {},
   "outputs": [],
   "source": [
    "##### ESPACIO #####\n",
    "# Importamos las librerías necesarias\n",
    "import numpy as np\n",
    "from matplotlib import pyplot as plt\n",
    "from scipy.optimize import curve_fit, bisect\n",
    "from scipy.interpolate import CubicSpline\n",
    "import pandas as pd\n",
    "\n",
    "\n"
   ]
  },
  {
   "cell_type": "code",
   "execution_count": null,
   "metadata": {},
   "outputs": [],
   "source": [
    "##### ESPACIO #####\n",
    "V_t = np.array([0., 0.09997963, 0.19979541, 0.29818724, 0.38708739,\n",
    "       0.44918412, 0.4858808 , 0.5092326 , 0.5257116 , 0.5384415 ,\n",
    "       0.5484803 , 0.556853  , 0.5640389 , 0.5703152 , 0.5758803 ,\n",
    "       0.5808764 ])\n",
    "\n",
    "I = np.array([0., 2.036700e-08, 2.045907e-07, 1.813641e-06,\n",
    "       1.291275e-05, 5.081596e-05, 1.141195e-04, 1.907880e-04,\n",
    "       2.742902e-04, 3.617043e-04, 4.515953e-04, 5.431760e-04,\n",
    "       6.359759e-04, 7.296934e-04, 8.241251e-04, 9.191271e-04])\n",
    "\n",
    "\n"
   ]
  },
  {
   "cell_type": "code",
   "execution_count": null,
   "metadata": {},
   "outputs": [],
   "source": [
    "##### ESPACIO #####\n",
    "V_out = np.array([0.000000e+00, 2.036700e-05, 2.045893e-04, 1.812759e-03,\n",
    "       1.291261e-02, 5.081588e-02, 1.141192e-01, 1.907674e-01,\n",
    "       2.742884e-01, 3.615585e-01, 4.515197e-01, 5.431470e-01,\n",
    "       6.359611e-01, 7.296848e-01, 8.241197e-01, 9.191236e-01])\n",
    "\n",
    "V_in = np.array([0. , 0.1, 0.2, 0.3, 0.4, 0.5, 0.6, 0.7, 0.8, 0.9, 1. , 1.1, 1.2,\n",
    "       1.3, 1.4, 1.5])\n",
    "\n",
    "\n"
   ]
  },
  {
   "cell_type": "code",
   "execution_count": null,
   "metadata": {},
   "outputs": [],
   "source": [
    "##### ESPACIO #####\n",
    "def corriente_I(V, a, b):\n",
    "    return a * (np.exp(b * V) - 1)\n",
    "\n",
    "\n"
   ]
  },
  {
   "cell_type": "code",
   "execution_count": null,
   "metadata": {},
   "outputs": [],
   "source": [
    "##### ESPACIO #####\n",
    "I_fit = curve_fit(corriente_I, V_t, I)\n",
    "I_teo = corriente_I(V_t, I_fit[0][0], I_fit[0][1])\n",
    "\n",
    "print('I_0 =', I_fit[0][0], 'T =', I_fit[0][1])\n",
    "\n",
    "suma = 0\n",
    "for i in range(len(V_t)):\n",
    "    suma = suma + (I_teo[i] - I[i])**2\n",
    "\n",
    "print('El error cuadrático es de', suma/len(V_t), '[mA]')\n",
    "    \n",
    "plt.scatter(V_t, I_teo, label = 'Ajuste', color = 'red')\n",
    "plt.plot(V_t, I, label = 'Datos', color = 'blue')\n",
    "plt.title('Ajuste de Voltaje vs. Corriente')\n",
    "plt.xlabel('Voltaje [V]')\n",
    "plt.ylabel('Corriente [mA]')\n",
    "plt.legend()\n",
    "plt.grid()\n",
    "plt.savefig(r\"C:\\Users\\Usuario\\Documents\\Astro experimental\\Informe 3\\graf1.png\")\n",
    "plt.show()\n",
    "\n",
    "\n"
   ]
  },
  {
   "cell_type": "code",
   "execution_count": null,
   "metadata": {},
   "outputs": [],
   "source": [
    "##### ESPACIO #####\n",
    "# Constantes\n",
    "R = 1000\n",
    "I0 = I_fit[0][0]\n",
    "b = I_fit[0][1]\n",
    "\n",
    "# voltaje de entrada y salida\n",
    "V_out_fitted=np.zeros(len(V_in))\n",
    "\n",
    "# funcion que se buscara ceros\n",
    "def g(v_out):\n",
    "    return R * I0 * (np.exp((V_in[i] - v_out) * b) - 1) - v_out\n",
    "\n",
    "for i in range(len(V_in)):\n",
    "    V_out_fitted[i] = bisect(g,10,-10)\n",
    "    \n",
    "print(V_out_fitted)\n",
    "\n",
    "\n"
   ]
  },
  {
   "cell_type": "code",
   "execution_count": null,
   "metadata": {},
   "outputs": [],
   "source": [
    "##### ESPACIO #####\n",
    "plt.plot(V_in, V_out_fitted, label='Ajuste', color = 'red')\n",
    "plt.plot(V_in, V_out, 'o', label='Datos', color = 'blue')\n",
    "plt.title('$V_{out}$ vs. $V_{in}$')\n",
    "plt.xlabel('$V_{in}$ [V]')\n",
    "plt.ylabel('$V_{out}$ [V]')\n",
    "plt.legend()\n",
    "plt.grid()\n",
    "plt.savefig(r\"C:\\Users\\Usuario\\Documents\\Astro experimental\\Informe 3\\graf2.png\")\n",
    "plt.show()\n",
    "\n",
    "\n"
   ]
  },
  {
   "cell_type": "code",
   "execution_count": null,
   "metadata": {},
   "outputs": [],
   "source": [
    "##### ESPACIO #####\n",
    "# pasamos a array\n",
    "V_in = np.array(V_in)\n",
    "\n",
    "# expandimos\n",
    "Vind = np.append(V_in, [1.6, 1.7, 1.8])\n",
    "\n",
    "# extrapolamos\n",
    "cs = CubicSpline(V_in, V_out_fitted)\n",
    "\n",
    "Voutd = cs(Vind)\n",
    "\n",
    "\n"
   ]
  },
  {
   "cell_type": "code",
   "execution_count": null,
   "metadata": {},
   "outputs": [],
   "source": [
    "##### ESPACIO #####\n",
    "lenght = len(V_out_fitted)\n",
    "d1, d2, d3, d4 = np.zeros(lenght), np.zeros(lenght), np.zeros(lenght), np.zeros(lenght)\n",
    "\n",
    "for i in range(len(V_out_fitted)-1):\n",
    "    h = 0.1 # V_in[i + 1] - V_in[i] = 0.01 siempre\n",
    "    d1[i + 1]  = (V_out_fitted[i + 1] - V_out_fitted[i]) / h\n",
    "    d2[i + 1] = (d1[i + 1] - d1[i]) / h\n",
    "    d3[i + 1] = (d2[i + 1] - d2[i]) / h\n",
    "    d4[i + 1] = (d3[i + 1] - d3[i]) / h\n",
    "   \n",
    "d1[0], d2[0], d3[0], d4[0]  = 1e-5 , 1e-5, 1e-5 , 1e-5\n",
    "\n",
    "print(d4)\n",
    "\n",
    "\n"
   ]
  },
  {
   "cell_type": "code",
   "execution_count": null,
   "metadata": {},
   "outputs": [],
   "source": [
    "##### ESPACIO #####\n",
    "plt.plot(V_in, V_out, label = 'Datos')\n",
    "plt.plot(V_in, d1, label = '1ra der.')\n",
    "plt.plot(V_in, d2, label = '2da der')\n",
    "plt.plot(V_in, d3, label = '3ra der.')\n",
    "plt.plot(V_in, d4, label = '4ta der.')\n",
    "plt.legend()\n",
    "plt.grid()\n",
    "plt.savefig(r\"C:\\Users\\Usuario\\Documents\\Astro experimental\\Informe 3\\graf3.png\")\n",
    "plt.show()\n",
    "\n",
    "\n"
   ]
  },
  {
   "cell_type": "code",
   "execution_count": null,
   "metadata": {},
   "outputs": [],
   "source": [
    "##### ESPACIO #####\n",
    "# Insertamos la fórmula del radio\n",
    "R_curv = abs((( 1 + d1 ** 2) ** (3/2)) / d2)\n",
    "index = list(R_curv).index(min(R_curv))\n",
    "print('El radio de curvatura mínimo es',float(R_curv[index]), 'con un voltaje de entrada de',\n",
    "      float(V_in[index]),'[V] y un voltaje de salida de', float(V_out[index]), '[V]')\n",
    "\n",
    "\n"
   ]
  },
  {
   "cell_type": "code",
   "execution_count": null,
   "metadata": {},
   "outputs": [],
   "source": [
    "##### ESPACIO #####\n",
    "X = 1/R_curv\n",
    "\n",
    "plt.plot(V_in, X)\n",
    "plt.title('$V_{in}$ vs. Curvatura de $V_{out}(V_{in})$')\n",
    "plt.ylabel('Curvatura de $V_{out}(V_{in})$')\n",
    "plt.xlabel('$V_{in}$ [V]')\n",
    "plt.xlim(0,1.5)\n",
    "plt.grid()\n",
    "plt.savefig(r\"C:\\Users\\Usuario\\Documents\\Astro experimental\\Informe 3\\graf4.png\")\n",
    "plt.show()\n",
    "\n",
    "\n"
   ]
  },
  {
   "cell_type": "code",
   "execution_count": null,
   "metadata": {},
   "outputs": [],
   "source": [
    "##### ESPACIO #####\n",
    "print('Podemos ver que la curvatura máxima se encuentra en un voltaje de entrada de', V_in[list(X).index(max(X))], '[V]')\n",
    "\n",
    "\n"
   ]
  },
  {
   "cell_type": "code",
   "execution_count": null,
   "metadata": {},
   "outputs": [],
   "source": [
    "##### ESPACIO #####\n",
    "P2nd = np.array([-87.346, -69.003, -53.25, -42.943,\n",
    "                  -38.22, -37.82, -41.43, -47.002,\n",
    "                  -52.583, -57.053, -60.750, -64.501,\n",
    "                  -67.199, -70.060, -72.633, -74.421])\n",
    "\n",
    "V_in_offset = np.array([0., .1, .2, .3, .4, .5, .6, .7, .8,\n",
    "                     .9, 1, 1.1, 1.2, 1.3, 1.4, 1.5 ])\n",
    "\n",
    "\n"
   ]
  },
  {
   "cell_type": "code",
   "execution_count": null,
   "metadata": {},
   "outputs": [],
   "source": [
    "##### ESPACIO #####\n",
    "plt.plot(V_in_offset, P2nd)\n",
    "plt.ylabel('Potencia [W]')\n",
    "plt.xlabel('DC-offset [V]')\n",
    "plt.title('Potencia en el segundo armónico')\n",
    "plt.grid()\n",
    "plt.savefig(r\"C:\\Users\\Usuario\\Documents\\Astro experimental\\Informe 3\\graf5.png\")\n",
    "plt.show()\n",
    "\n",
    "\n"
   ]
  },
  {
   "cell_type": "code",
   "execution_count": null,
   "metadata": {},
   "outputs": [],
   "source": [
    "##### ESPACIO #####\n",
    "maxP = max(P2nd) # P = V \\cdot I\n",
    "maxDC = V_in_offset[list(P2nd).index(maxP)]\n",
    "\n",
    "print('El valor de DC-offset donde se encuentra el',\n",
    "      'máximo contenido armónico es', maxDC, '[V]',\n",
    "      'con', maxP, '[W]')\n",
    "\n",
    "\n"
   ]
  },
  {
   "cell_type": "code",
   "execution_count": null,
   "metadata": {},
   "outputs": [],
   "source": [
    "##### ESPACIO #####\n",
    "data2 = pd.read_table(r\"C:\\Users\\Usuario\\Downloads\\circuito2clean.csv\", delimiter = ',')\n",
    "frequencies = data2['Freq.'] \n",
    "vouts = data2['V(out)']\n",
    "\n",
    "plt.plot(frequencies, vouts, linewidth = 0.5)\n",
    "plt.xlim(0,20000)\n",
    "plt.ylim(-150,-20)\n",
    "plt.xlabel('Frecuencia [Hz]')\n",
    "plt.ylabel('$V_{out}$ [dB]')\n",
    "plt.title('Espectro con DC-offset = 0.5 [V]')\n",
    "plt.grid()\n",
    "plt.savefig(r\"C:\\Users\\Usuario\\Documents\\Astro experimental\\Informe 3\\graf6.png\")\n",
    "plt.show()\n",
    "\n",
    "\n"
   ]
  },
  {
   "cell_type": "code",
   "execution_count": null,
   "metadata": {},
   "outputs": [],
   "source": [
    "##### ESPACIO #####\n",
    "# Calculamos la frecuencia de los armonicos\n",
    "\n",
    "armonicos = np.array([68.34, 12.86, 0.28, 0.51])\n",
    "\n",
    "\n"
   ]
  },
  {
   "cell_type": "code",
   "execution_count": null,
   "metadata": {},
   "outputs": [],
   "source": [
    "##### ESPACIO #####\n",
    "# Calculamos las derivadas en 0.5 [V]\n",
    "\n",
    "V = V_out[5]\n",
    "dV  = d1[5]\n",
    "d2V = d2[5]\n",
    "d3V = d3[5]\n",
    "d4V = d4[5]\n",
    "\n",
    "\n"
   ]
  },
  {
   "cell_type": "code",
   "execution_count": null,
   "metadata": {},
   "outputs": [],
   "source": [
    "##### ESPACIO #####\n",
    "coef0 = V + d2V/4 + d4V/64\n",
    "coef1 = d3V/8 + dV\n",
    "coef2 = d2V/4 + d4V/48\n",
    "coef3 = d3V/24\n",
    "coef4 = d4V/192\n",
    "\n",
    "coefs = np.array([coef1, coef2, coef3, coef4])\n",
    "print(coefs)\n",
    "\n",
    "\n"
   ]
  },
  {
   "cell_type": "code",
   "execution_count": null,
   "metadata": {},
   "outputs": [],
   "source": [
    "##### ESPACIO #####\n",
    "data4 = pd.read_table(r\"C:\\Users\\Usuario\\Downloads\\circuito4clean.csv\", delimiter = ',')\n",
    "frequencies2 = data4['Freq.']\n",
    "vouts2 = data4['V(out)']\n",
    "plt.plot(frequencies2, vouts2, linewidth = 0.5)\n",
    "plt.xlim(0,20000)\n",
    "plt.ylim(-150,-20)\n",
    "plt.xlabel('Frecuencia [KHz]')\n",
    "plt.ylabel('$V_{out}$ [dB]')\n",
    "plt.grid()\n",
    "plt.show()\n"
   ]
  }
 ],
 "metadata": {
  "language_info": {
   "name": "python"
  }
 },
 "nbformat": 4,
 "nbformat_minor": 2
}
